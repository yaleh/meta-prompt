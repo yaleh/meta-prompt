{
  "nbformat": 4,
  "nbformat_minor": 0,
  "metadata": {
    "colab": {
      "provenance": []
    },
    "kernelspec": {
      "name": "python3",
      "display_name": "Python 3"
    },
    "language_info": {
      "name": "python"
    }
  },
  "cells": [
    {
      "cell_type": "code",
      "source": [
        "!wget https://github.com/yaleh/meta-prompt/raw/main/prompt_ui.py"
      ],
      "metadata": {
        "id": "v98KGZUT17EJ"
      },
      "execution_count": null,
      "outputs": []
    },
    {
      "cell_type": "code",
      "source": [
        "!pip install gradio langchain scikit-learn openai"
      ],
      "metadata": {
        "id": "MO89Z8-UY5Ht"
      },
      "execution_count": null,
      "outputs": []
    },
    {
      "cell_type": "code",
      "execution_count": null,
      "metadata": {
        "id": "9BZL20lBYLbj"
      },
      "outputs": [],
      "source": [
        "import openai\n",
        "import os\n",
        "openai.api_key = ''\n",
        "os.environ[\"OPENAI_API_KEY\"] = openai.api_key\n"
      ]
    },
    {
      "cell_type": "code",
      "source": [
        "from prompt_ui import PromptUI\n",
        "\n",
        "app = PromptUI()\n",
        "app.ui.queue().launch(debug=True)"
      ],
      "metadata": {
        "id": "Z8M3eFzXZaOb"
      },
      "execution_count": null,
      "outputs": []
    }
  ]
}