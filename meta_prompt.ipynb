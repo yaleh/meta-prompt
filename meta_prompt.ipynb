{
  "cells": [
    {
      "cell_type": "code",
      "execution_count": null,
      "metadata": {
        "id": "v98KGZUT17EJ"
      },
      "outputs": [],
      "source": [
        "!wget https://github.com/yaleh/meta-prompt/raw/main/prompt_ui.py\n",
        "!wget https://github.com/yaleh/meta-prompt/raw/main/default_meta_prompts.py"
      ]
    },
    {
      "cell_type": "code",
      "execution_count": null,
      "metadata": {
        "id": "MO89Z8-UY5Ht"
      },
      "outputs": [],
      "source": [
        "!pip install gradio langchain scikit-learn openai"
      ]
    },
    {
      "cell_type": "code",
      "execution_count": null,
      "metadata": {
        "id": "9BZL20lBYLbj"
      },
      "outputs": [],
      "source": [
        "import openai\n",
        "import os\n",
        "openai.api_key = ''\n",
        "os.environ[\"OPENAI_API_KEY\"] = openai.api_key\n"
      ]
    },
    {
      "cell_type": "code",
      "execution_count": null,
      "metadata": {
        "id": "Z8M3eFzXZaOb"
      },
      "outputs": [],
      "source": [
        "from prompt_ui import PromptUI\n",
        "\n",
        "app = PromptUI()\n",
        "app.ui.queue().launch(debug=True)"
      ]
    }
  ],
  "metadata": {
    "colab": {
      "provenance": []
    },
    "kernelspec": {
      "display_name": "Python 3",
      "name": "python3"
    },
    "language_info": {
      "name": "python"
    }
  },
  "nbformat": 4,
  "nbformat_minor": 0
}
